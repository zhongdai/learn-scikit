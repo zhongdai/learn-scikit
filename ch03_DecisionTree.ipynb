{
 "cells": [
  {
   "cell_type": "code",
   "execution_count": 1,
   "metadata": {
    "collapsed": true
   },
   "outputs": [],
   "source": [
    "# Use the Titanic dataset to practice\n",
    "# http://biostat.mc.vanderbilt.edu/wiki/pub/Main/DataSets/titanic.txt\n",
    "# headers: Ordinal, Class, Survived (0=no, 1=yes), Name,Age, Port of Embarkation, Home/Destination, Room, Ticket, Boat\n",
    "# Learn objective:\n",
    "# - how to fill N/A value, average value or the most common (top freq) value could be a choice\n",
    "# - how to encode the label value to numeric value, eg. Gender Male -> 1, Female -> 0\n",
    "# - how to convert categorical value to multiple columns, eg, pclass (1st, 2nd, 3rd) to three columns with 1 or 0 value"
   ]
  },
  {
   "cell_type": "code",
   "execution_count": 8,
   "metadata": {
    "collapsed": false
   },
   "outputs": [],
   "source": [
    "import csv\n",
    "import numpy as np\n",
    "with open(\"titanic.txt\",\"rb\") as f:\n",
    "    titanic_reader = csv.reader(f, delimiter=',', quotechar='\"')\n",
    "    \n",
    "    # header\n",
    "    row = titanic_reader.next()\n",
    "    features_names = np.array(row)\n",
    "    \n",
    "    # Load dataset, and the target classes\n",
    "    titanic_X, titanic_y = [], []\n",
    "    for row in titanic_reader:\n",
    "        titanic_X.append(row)\n",
    "        titanic_y.append(row[2]) # the target value column Survived\n",
    "    \n",
    "    titanic_X = np.array(titanic_X)\n",
    "    titanic_y = np.array(titanic_y)"
   ]
  },
  {
   "cell_type": "code",
   "execution_count": 4,
   "metadata": {
    "collapsed": false
   },
   "outputs": [
    {
     "name": "stdout",
     "output_type": "stream",
     "text": [
      "['row.names' 'pclass' 'survived' 'name' 'age' 'embarked' 'home.dest' 'room'\n",
      " 'ticket' 'boat' 'sex']\n"
     ]
    }
   ],
   "source": [
    "print features_names"
   ]
  },
  {
   "cell_type": "code",
   "execution_count": 9,
   "metadata": {
    "collapsed": false
   },
   "outputs": [
    {
     "name": "stdout",
     "output_type": "stream",
     "text": [
      "['2' '1st' '0' 'Allison, Miss Helen Loraine' ' 2.0000' 'Southampton'\n",
      " 'Montreal, PQ / Chesterville, ON' 'C26' '' '' 'female'] 0\n"
     ]
    }
   ],
   "source": [
    "print titanic_X[1], titanic_y[1]"
   ]
  },
  {
   "cell_type": "code",
   "execution_count": 10,
   "metadata": {
    "collapsed": false
   },
   "outputs": [],
   "source": [
    "# select 1, 4, and 10 columns as features\n",
    "titanic_X = titanic_X[:, [1,4,10]]\n",
    "features_names = features_names[[1,4,10]]"
   ]
  },
  {
   "cell_type": "code",
   "execution_count": 11,
   "metadata": {
    "collapsed": false
   },
   "outputs": [
    {
     "name": "stdout",
     "output_type": "stream",
     "text": [
      "['pclass' 'age' 'sex']\n"
     ]
    }
   ],
   "source": [
    "print features_names"
   ]
  },
  {
   "cell_type": "code",
   "execution_count": 12,
   "metadata": {
    "collapsed": false
   },
   "outputs": [
    {
     "name": "stdout",
     "output_type": "stream",
     "text": [
      "['1st' 'NA' 'female']\n"
     ]
    }
   ],
   "source": [
    "# we have missing value for age\n",
    "print titanic_X[12]"
   ]
  },
  {
   "cell_type": "code",
   "execution_count": 13,
   "metadata": {
    "collapsed": false
   },
   "outputs": [
    {
     "name": "stdout",
     "output_type": "stream",
     "text": [
      "['1st' '31.1941810427' 'female']\n"
     ]
    }
   ],
   "source": [
    "# fill the missing value with average value\n",
    "ages = titanic_X[:,1] # the all value from age column\n",
    "mean_age = np.mean(titanic_X[ ages != 'NA', 1].astype(np.float))\n",
    "titanic_X[ages == 'NA',1] = mean_age\n",
    "print titanic_X[12]"
   ]
  },
  {
   "cell_type": "code",
   "execution_count": 14,
   "metadata": {
    "collapsed": false
   },
   "outputs": [
    {
     "name": "stdout",
     "output_type": "stream",
     "text": [
      "Categorical classes: ['female' 'male']\n"
     ]
    }
   ],
   "source": [
    "# encode the label values to numeric values\n",
    "from sklearn.preprocessing import LabelEncoder\n",
    "enc = LabelEncoder()\n",
    "label_encoder = enc.fit(titanic_X[:,2])\n",
    "print \"Categorical classes:\", label_encoder.classes_"
   ]
  },
  {
   "cell_type": "code",
   "execution_count": 15,
   "metadata": {
    "collapsed": false
   },
   "outputs": [
    {
     "name": "stdout",
     "output_type": "stream",
     "text": [
      "[0 1]\n"
     ]
    }
   ],
   "source": [
    "integer_classes = label_encoder.transform(label_encoder.classes_)\n",
    "print integer_classes"
   ]
  },
  {
   "cell_type": "code",
   "execution_count": 16,
   "metadata": {
    "collapsed": true
   },
   "outputs": [],
   "source": [
    "t = label_encoder.transform(titanic_X[:,2])\n",
    "titanic_X[:, 2] = t"
   ]
  },
  {
   "cell_type": "code",
   "execution_count": 17,
   "metadata": {
    "collapsed": false
   },
   "outputs": [
    {
     "name": "stdout",
     "output_type": "stream",
     "text": [
      "['1st' '31.1941810427' '0']\n"
     ]
    }
   ],
   "source": [
    "print titanic_X[12]"
   ]
  },
  {
   "cell_type": "code",
   "execution_count": 18,
   "metadata": {
    "collapsed": false
   },
   "outputs": [
    {
     "name": "stdout",
     "output_type": "stream",
     "text": [
      "Categorical classes: ['1st' '2nd' '3rd']\n"
     ]
    }
   ],
   "source": [
    "# convert categorical feature to multiple columns\n",
    "from sklearn.preprocessing import OneHotEncoder\n",
    "enc = LabelEncoder()\n",
    "label_encoder = enc.fit(titanic_X[:,0])\n",
    "print \"Categorical classes:\", label_encoder.classes_"
   ]
  },
  {
   "cell_type": "code",
   "execution_count": 19,
   "metadata": {
    "collapsed": true
   },
   "outputs": [],
   "source": [
    "numeric_features = label_encoder.transform(label_encoder.classes_)"
   ]
  },
  {
   "cell_type": "code",
   "execution_count": 21,
   "metadata": {
    "collapsed": false
   },
   "outputs": [
    {
     "name": "stdout",
     "output_type": "stream",
     "text": [
      "(3,)\n"
     ]
    }
   ],
   "source": [
    "print numeric_features.shape"
   ]
  },
  {
   "cell_type": "code",
   "execution_count": 22,
   "metadata": {
    "collapsed": false
   },
   "outputs": [
    {
     "name": "stdout",
     "output_type": "stream",
     "text": [
      "[[0]\n",
      " [1]\n",
      " [2]]\n"
     ]
    }
   ],
   "source": [
    "numeric_features = label_encoder.transform(label_encoder.classes_).reshape(3,1)\n",
    "print numeric_features"
   ]
  },
  {
   "cell_type": "code",
   "execution_count": 23,
   "metadata": {
    "collapsed": false
   },
   "outputs": [
    {
     "name": "stderr",
     "output_type": "stream",
     "text": [
      "/usr/local/lib/python2.7/dist-packages/numpy/core/fromnumeric.py:2641: VisibleDeprecationWarning: `rank` is deprecated; use the `ndim` attribute or function instead. To find the rank of a matrix see `numpy.linalg.matrix_rank`.\n",
      "  VisibleDeprecationWarning)\n"
     ]
    }
   ],
   "source": [
    "enc = OneHotEncoder()\n",
    "one_hot_encoder = enc.fit(numeric_features)"
   ]
  },
  {
   "cell_type": "code",
   "execution_count": 24,
   "metadata": {
    "collapsed": false
   },
   "outputs": [
    {
     "name": "stdout",
     "output_type": "stream",
     "text": [
      "OneHotEncoder(categorical_features='all', dtype=<type 'float'>,\n",
      "       handle_unknown='error', n_values='auto', sparse=True)\n"
     ]
    }
   ],
   "source": [
    "print one_hot_encoder"
   ]
  },
  {
   "cell_type": "code",
   "execution_count": 26,
   "metadata": {
    "collapsed": true
   },
   "outputs": [],
   "source": [
    "num_of_rows = titanic_X.shape[0]\n",
    "t = label_encoder.transform(titanic_X[:,0]).reshape(num_of_rows,1)"
   ]
  },
  {
   "cell_type": "code",
   "execution_count": 29,
   "metadata": {
    "collapsed": false
   },
   "outputs": [],
   "source": [
    "# Second, create a sparse matrix with three columns, each one indicating if the instance belongs to the class\n",
    "new_features = one_hot_encoder.transform(t)\n",
    "titanic_X = np.concatenate([titanic_X, new_features.toarray()], axis = 1)\n",
    "titanic_X = np.delete(titanic_X, [0], 1)\n",
    "features_names = ['age', 'sex', 'first_class', 'second_class', 'third_class']\n",
    "titanic_X = titanic_X.astype(float)\n",
    "titanic_y = titanic_y.astype(float)"
   ]
  },
  {
   "cell_type": "code",
   "execution_count": 30,
   "metadata": {
    "collapsed": false
   },
   "outputs": [
    {
     "name": "stdout",
     "output_type": "stream",
     "text": [
      "['age', 'sex', 'first_class', 'second_class', 'third_class']\n",
      "[ 31.19418104   0.           1.           0.           0.        ] 1.0\n"
     ]
    }
   ],
   "source": [
    "print features_names\n",
    "print titanic_X[12], titanic_y[12]"
   ]
  },
  {
   "cell_type": "code",
   "execution_count": 31,
   "metadata": {
    "collapsed": true
   },
   "outputs": [],
   "source": [
    "# as usual, we split the set to train and test\n",
    "from sklearn.cross_validation import train_test_split\n",
    "X_train, X_test, y_train, y_test = train_test_split(titanic_X, titanic_y, test_size=0.25, random_state=33)"
   ]
  },
  {
   "cell_type": "code",
   "execution_count": 32,
   "metadata": {
    "collapsed": false
   },
   "outputs": [
    {
     "name": "stdout",
     "output_type": "stream",
     "text": [
      "984 329\n"
     ]
    }
   ],
   "source": [
    "print len(X_train), len(X_test)"
   ]
  },
  {
   "cell_type": "code",
   "execution_count": 33,
   "metadata": {
    "collapsed": true
   },
   "outputs": [],
   "source": [
    "from sklearn import tree\n",
    "clf = tree.DecisionTreeClassifier(criterion='entropy', max_depth=3, min_samples_leaf=5)\n",
    "clf = clf.fit(X_train, y_train)"
   ]
  },
  {
   "cell_type": "code",
   "execution_count": 34,
   "metadata": {
    "collapsed": false
   },
   "outputs": [
    {
     "data": {
      "text/plain": [
       "DecisionTreeClassifier(class_weight=None, criterion='entropy', max_depth=3,\n",
       "            max_features=None, max_leaf_nodes=None, min_samples_leaf=5,\n",
       "            min_samples_split=2, min_weight_fraction_leaf=0.0,\n",
       "            presort=False, random_state=None, splitter='best')"
      ]
     },
     "execution_count": 34,
     "metadata": {},
     "output_type": "execute_result"
    }
   ],
   "source": [
    "clf"
   ]
  },
  {
   "cell_type": "code",
   "execution_count": 47,
   "metadata": {
    "collapsed": false
   },
   "outputs": [
    {
     "data": {
      "image/png": "[encoded data removed]",
      "text/plain": [
       "<IPython.core.display.Image object>"
      ]
     },
     "execution_count": 47,
     "metadata": {},
     "output_type": "execute_result"
    }
   ],
   "source": [
    "# to create the tree diagram, we need to install some Python libs\n",
    "# pydoc, http://www.graphviz.org/\n",
    "# sudo apt-get install graphviz\n",
    "# pip uninstall pydot\n",
    "# pip install pydot2\n",
    "from IPython.core.display import Image\n",
    "import pydot, StringIO\n",
    "\n",
    "dot_data = StringIO.StringIO()\n",
    "tree.export_graphviz(clf, out_file=dot_data, feature_names=['age','sex','1st_class','2nd_class','3d_class'])\n",
    "graph = pydot.graph_from_dot_data(dot_data.getvalue())\n",
    "graph.write_png('decision_tree_titanic.png')\n",
    "Image(filename='decision_tree_titanic.png')"
   ]
  },
  {
   "cell_type": "code",
   "execution_count": 48,
   "metadata": {
    "collapsed": false
   },
   "outputs": [
    {
     "name": "stdout",
     "output_type": "stream",
     "text": [
      "Accuracy:0.838 \n",
      "\n",
      "Classification Report:\n",
      "             precision    recall  f1-score   support\n",
      "\n",
      "        0.0       0.82      0.98      0.89       662\n",
      "        1.0       0.93      0.55      0.69       322\n",
      "\n",
      "avg / total       0.85      0.84      0.82       984\n",
      "\n",
      "\n",
      "Confusion matrix:\n",
      "[[649  13]\n",
      " [146 176]] \n",
      "\n"
     ]
    }
   ],
   "source": [
    "# let implement the desicion tree and evaluate the performance\n",
    "from sklearn import metrics\n",
    "def measure_performance(X, y, clf, show_accuracy=True, show_classification_report=True, show_confusion_matrix=True):\n",
    "    y_pred = clf.predict(X)\n",
    "    if show_accuracy:\n",
    "        print \"Accuracy:{0:.3f}\".format(\n",
    "            metrics.accuracy_score(y, y_pred)), \"\\n\"\n",
    "    \n",
    "    if show_classification_report:\n",
    "        print \"Classification Report:\"\n",
    "        print metrics.classification_report(y, y_pred), \"\\n\"\n",
    "    \n",
    "    if show_confusion_matrix:\n",
    "        print \"Confusion matrix:\"\n",
    "        print metrics.confusion_matrix(y, y_pred), \"\\n\"\n",
    "\n",
    "# run report\n",
    "measure_performance(X_train, y_train, clf, True, True, True)"
   ]
  },
  {
   "cell_type": "code",
   "execution_count": 49,
   "metadata": {
    "collapsed": false
   },
   "outputs": [
    {
     "name": "stdout",
     "output_type": "stream",
     "text": [
      "Mean score: 0.837 (+/- 0.012)\n"
     ]
    }
   ],
   "source": [
    "# cross validation\n",
    "# leave-one-out cross-validation\n",
    "from sklearn.cross_validation import cross_val_score, LeaveOneOut\n",
    "from scipy.stats import sem\n",
    "\n",
    "def loo_cv(X_train, y_train, clf):\n",
    "    loo = LeaveOneOut(X_train[:].shape[0])\n",
    "    scores = np.zeros(X_train[:].shape[0])\n",
    "    for train_index, test_index in loo:\n",
    "        X_train_cv, X_test_cv = X_train[train_index], X_train[test_index]\n",
    "        y_train_cv, y_test_cv = y_train[train_index], y_train[test_index]\n",
    "        clf = clf.fit(X_train_cv, y_train_cv)\n",
    "        y_pred = clf.predict(X_test_cv)\n",
    "        scores[test_index] = metrics.accuracy_score(y_test_cv.astype(int), y_pred.astype(int))\n",
    "    print \"Mean score: {0:.3f} (+/- {1:.3f})\".format(np.mean(scores), sem(scores))\n",
    "\n",
    "loo_cv(X_train, y_train, clf)"
   ]
  },
  {
   "cell_type": "code",
   "execution_count": 55,
   "metadata": {
    "collapsed": false
   },
   "outputs": [
    {
     "data": {
      "text/plain": [
       "(984, 5)"
      ]
     },
     "execution_count": 55,
     "metadata": {},
     "output_type": "execute_result"
    }
   ],
   "source": []
  },
  {
   "cell_type": "code",
   "execution_count": null,
   "metadata": {
    "collapsed": true
   },
   "outputs": [],
   "source": []
  }
 ],
 "metadata": {
  "kernelspec": {
   "display_name": "Python 2",
   "language": "python",
   "name": "python2"
  },
  "language_info": {
   "codemirror_mode": {
    "name": "ipython",
    "version": 2
   },
   "file_extension": ".py",
   "mimetype": "text/x-python",
   "name": "python",
   "nbconvert_exporter": "python",
   "pygments_lexer": "ipython2",
   "version": "2.7.6"
  }
 },
 "nbformat": 4,
 "nbformat_minor": 0
}
