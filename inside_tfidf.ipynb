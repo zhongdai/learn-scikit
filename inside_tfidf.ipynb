{
 "cells": [
  {
   "cell_type": "code",
   "execution_count": 2,
   "metadata": {
    "collapsed": false
   },
   "outputs": [],
   "source": [
    "%matplotlib inline\n",
    "import pandas as pd\n",
    "import numpy as np"
   ]
  },
  {
   "cell_type": "code",
   "execution_count": 6,
   "metadata": {
    "collapsed": false
   },
   "outputs": [],
   "source": [
    "data = pd.read_csv('trainning_raw.txt', sep='|', skiprows=1, names=['text','category'])"
   ]
  },
  {
   "cell_type": "code",
   "execution_count": 7,
   "metadata": {
    "collapsed": false
   },
   "outputs": [
    {
     "data": {
      "text/html": [
       "<div>\n",
       "<table border=\"1\" class=\"dataframe\">\n",
       "  <thead>\n",
       "    <tr style=\"text-align: right;\">\n",
       "      <th></th>\n",
       "      <th>text</th>\n",
       "      <th>category</th>\n",
       "    </tr>\n",
       "  </thead>\n",
       "  <tbody>\n",
       "    <tr>\n",
       "      <th>0</th>\n",
       "      <td>COLES  GLENSIDE SA AU</td>\n",
       "      <td>Grocery Stores, Supermarkets</td>\n",
       "    </tr>\n",
       "    <tr>\n",
       "      <th>1</th>\n",
       "      <td>WOOLWORTHS RANDWICK RANDWICK AU</td>\n",
       "      <td>Grocery Stores, Supermarkets</td>\n",
       "    </tr>\n",
       "    <tr>\n",
       "      <th>2</th>\n",
       "      <td>WOOLWORTHS      4390 JOONDA AU</td>\n",
       "      <td>Grocery Stores, Supermarkets</td>\n",
       "    </tr>\n",
       "    <tr>\n",
       "      <th>3</th>\n",
       "      <td>COLES SUPERMARKETS KAL KALAMUNDA AU</td>\n",
       "      <td>Grocery Stores, Supermarkets</td>\n",
       "    </tr>\n",
       "    <tr>\n",
       "      <th>4</th>\n",
       "      <td>COLES ERINA 0885 ERINA AUS</td>\n",
       "      <td>Grocery Stores, Supermarkets</td>\n",
       "    </tr>\n",
       "  </tbody>\n",
       "</table>\n",
       "</div>"
      ],
      "text/plain": [
       "                                  text                      category\n",
       "0                COLES  GLENSIDE SA AU  Grocery Stores, Supermarkets\n",
       "1      WOOLWORTHS RANDWICK RANDWICK AU  Grocery Stores, Supermarkets\n",
       "2       WOOLWORTHS      4390 JOONDA AU  Grocery Stores, Supermarkets\n",
       "3  COLES SUPERMARKETS KAL KALAMUNDA AU  Grocery Stores, Supermarkets\n",
       "4           COLES ERINA 0885 ERINA AUS  Grocery Stores, Supermarkets"
      ]
     },
     "execution_count": 7,
     "metadata": {},
     "output_type": "execute_result"
    }
   ],
   "source": [
    "data.head()"
   ]
  },
  {
   "cell_type": "code",
   "execution_count": 29,
   "metadata": {
    "collapsed": false
   },
   "outputs": [],
   "source": [
    "corpus = data.text.values"
   ]
  },
  {
   "cell_type": "code",
   "execution_count": 30,
   "metadata": {
    "collapsed": false
   },
   "outputs": [
    {
     "data": {
      "text/plain": [
       "array(['COLES  GLENSIDE SA AU', 'WOOLWORTHS RANDWICK RANDWICK AU',\n",
       "       'WOOLWORTHS      4390 JOONDA AU', ..., 'COLES 0332 BOORAGOON AU',\n",
       "       'COLES 0901 FORSTER AU', 'WOOLWORTHS 1316 CAHRLE CHARLESTOWN AU'], dtype=object)"
      ]
     },
     "execution_count": 30,
     "metadata": {},
     "output_type": "execute_result"
    }
   ],
   "source": [
    "corpus"
   ]
  },
  {
   "cell_type": "code",
   "execution_count": 51,
   "metadata": {
    "collapsed": false
   },
   "outputs": [],
   "source": [
    "from sklearn.feature_extraction.text import TfidfVectorizer\n",
    "v = TfidfVectorizer(analyzer='word', ngram_range=(1,1), min_df = 0, stop_words = 'english', token_pattern='[a-zA-Z]\\w+')\n",
    "tfidf_matrix =  v.fit_transform(corpus)"
   ]
  },
  {
   "cell_type": "code",
   "execution_count": 52,
   "metadata": {
    "collapsed": false
   },
   "outputs": [],
   "source": [
    "feature_names = v.get_feature_names() "
   ]
  },
  {
   "cell_type": "code",
   "execution_count": 53,
   "metadata": {
    "collapsed": false
   },
   "outputs": [
    {
     "data": {
      "text/plain": [
       "4068"
      ]
     },
     "execution_count": 53,
     "metadata": {},
     "output_type": "execute_result"
    }
   ],
   "source": [
    "len(feature_names)"
   ]
  },
  {
   "cell_type": "code",
   "execution_count": 54,
   "metadata": {
    "collapsed": false
   },
   "outputs": [
    {
     "data": {
      "text/plain": [
       "[u'alexandr',\n",
       " u'alexandra',\n",
       " u'alexandria',\n",
       " u'alfa',\n",
       " u'alfred',\n",
       " u'alfredton',\n",
       " u'algester',\n",
       " u'alh',\n",
       " u'ali',\n",
       " u'alice',\n",
       " u'alipay',\n",
       " u'allambie',\n",
       " u'allenby',\n",
       " u'allens',\n",
       " u'alliance',\n",
       " u'almond',\n",
       " u'alpha',\n",
       " u'alpharetta',\n",
       " u'alphin',\n",
       " u'alsterhaus']"
      ]
     },
     "execution_count": 54,
     "metadata": {},
     "output_type": "execute_result"
    }
   ],
   "source": [
    "feature_names[50:70]"
   ]
  },
  {
   "cell_type": "code",
   "execution_count": 55,
   "metadata": {
    "collapsed": true
   },
   "outputs": [],
   "source": [
    "import csv\n",
    "with open(\"tfidf_scikit.csv\", \"w\") as file:\n",
    "    writer = csv.writer(file, delimiter=\",\")\n",
    "    writer.writerow([\"Tran_Id\", \"Phrase\", \"Score\"])\n",
    " \n",
    "    doc_id = 0\n",
    "    for doc in tfidf_matrix.todense():\n",
    "        # print \"Tran_Id %d\" %(doc_id)\n",
    "        word_id = 0\n",
    "        for score in doc.tolist()[0]:\n",
    "            if score > 0:\n",
    "                word = feature_names[word_id]\n",
    "                writer.writerow([doc_id+1, word.encode(\"utf-8\"), score])\n",
    "            word_id +=1\n",
    "        doc_id +=1"
   ]
  },
  {
   "cell_type": "code",
   "execution_count": null,
   "metadata": {
    "collapsed": true
   },
   "outputs": [],
   "source": []
  }
 ],
 "metadata": {
  "kernelspec": {
   "display_name": "Python 2",
   "language": "python",
   "name": "python2"
  },
  "language_info": {
   "codemirror_mode": {
    "name": "ipython",
    "version": 2
   },
   "file_extension": ".py",
   "mimetype": "text/x-python",
   "name": "python",
   "nbconvert_exporter": "python",
   "pygments_lexer": "ipython2",
   "version": "2.7.9"
  }
 },
 "nbformat": 4,
 "nbformat_minor": 0
}
