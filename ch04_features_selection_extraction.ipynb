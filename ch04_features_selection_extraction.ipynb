{
 "cells": [
  {
   "cell_type": "code",
   "execution_count": 2,
   "metadata": {
    "collapsed": false
   },
   "outputs": [
    {
     "name": "stdout",
     "output_type": "stream",
     "text": [
      "Populating the interactive namespace from numpy and matplotlib\n"
     ]
    }
   ],
   "source": [
    "%pylab inline\n",
    "import pandas as pd\n",
    "import numpy as np\n",
    "import matplotlib.pyplot as plt"
   ]
  },
  {
   "cell_type": "code",
   "execution_count": 41,
   "metadata": {
    "collapsed": false
   },
   "outputs": [
    {
     "data": {
      "text/html": [
       "<div style=\"max-height:1000px;max-width:1500px;overflow:auto;\">\n",
       "<table border=\"1\" class=\"dataframe\">\n",
       "  <thead>\n",
       "    <tr style=\"text-align: right;\">\n",
       "      <th></th>\n",
       "      <th>row.names</th>\n",
       "      <th>pclass</th>\n",
       "      <th>survived</th>\n",
       "      <th>name</th>\n",
       "      <th>age</th>\n",
       "      <th>embarked</th>\n",
       "      <th>home.dest</th>\n",
       "      <th>room</th>\n",
       "      <th>ticket</th>\n",
       "      <th>boat</th>\n",
       "      <th>sex</th>\n",
       "    </tr>\n",
       "  </thead>\n",
       "  <tbody>\n",
       "    <tr>\n",
       "      <th>0</th>\n",
       "      <td> 1</td>\n",
       "      <td> 1st</td>\n",
       "      <td> 1</td>\n",
       "      <td>                    Allen, Miss Elisabeth Walton</td>\n",
       "      <td> 29.0000</td>\n",
       "      <td> Southampton</td>\n",
       "      <td>                    St Louis, MO</td>\n",
       "      <td> B-5</td>\n",
       "      <td> 24160 L221</td>\n",
       "      <td>     2</td>\n",
       "      <td> female</td>\n",
       "    </tr>\n",
       "    <tr>\n",
       "      <th>1</th>\n",
       "      <td> 2</td>\n",
       "      <td> 1st</td>\n",
       "      <td> 0</td>\n",
       "      <td>                     Allison, Miss Helen Loraine</td>\n",
       "      <td>  2.0000</td>\n",
       "      <td> Southampton</td>\n",
       "      <td> Montreal, PQ / Chesterville, ON</td>\n",
       "      <td> C26</td>\n",
       "      <td>        NaN</td>\n",
       "      <td>   NaN</td>\n",
       "      <td> female</td>\n",
       "    </tr>\n",
       "    <tr>\n",
       "      <th>2</th>\n",
       "      <td> 3</td>\n",
       "      <td> 1st</td>\n",
       "      <td> 0</td>\n",
       "      <td>             Allison, Mr Hudson Joshua Creighton</td>\n",
       "      <td> 30.0000</td>\n",
       "      <td> Southampton</td>\n",
       "      <td> Montreal, PQ / Chesterville, ON</td>\n",
       "      <td> C26</td>\n",
       "      <td>        NaN</td>\n",
       "      <td> (135)</td>\n",
       "      <td>   male</td>\n",
       "    </tr>\n",
       "    <tr>\n",
       "      <th>3</th>\n",
       "      <td> 4</td>\n",
       "      <td> 1st</td>\n",
       "      <td> 0</td>\n",
       "      <td> Allison, Mrs Hudson J.C. (Bessie Waldo Daniels)</td>\n",
       "      <td> 25.0000</td>\n",
       "      <td> Southampton</td>\n",
       "      <td> Montreal, PQ / Chesterville, ON</td>\n",
       "      <td> C26</td>\n",
       "      <td>        NaN</td>\n",
       "      <td>   NaN</td>\n",
       "      <td> female</td>\n",
       "    </tr>\n",
       "    <tr>\n",
       "      <th>4</th>\n",
       "      <td> 5</td>\n",
       "      <td> 1st</td>\n",
       "      <td> 1</td>\n",
       "      <td>                   Allison, Master Hudson Trevor</td>\n",
       "      <td>  0.9167</td>\n",
       "      <td> Southampton</td>\n",
       "      <td> Montreal, PQ / Chesterville, ON</td>\n",
       "      <td> C22</td>\n",
       "      <td>        NaN</td>\n",
       "      <td>    11</td>\n",
       "      <td>   male</td>\n",
       "    </tr>\n",
       "  </tbody>\n",
       "</table>\n",
       "<p>5 rows × 11 columns</p>\n",
       "</div>"
      ],
      "text/plain": [
       "   row.names pclass  survived  \\\n",
       "0          1    1st         1   \n",
       "1          2    1st         0   \n",
       "2          3    1st         0   \n",
       "3          4    1st         0   \n",
       "4          5    1st         1   \n",
       "\n",
       "                                              name      age     embarked  \\\n",
       "0                     Allen, Miss Elisabeth Walton  29.0000  Southampton   \n",
       "1                      Allison, Miss Helen Loraine   2.0000  Southampton   \n",
       "2              Allison, Mr Hudson Joshua Creighton  30.0000  Southampton   \n",
       "3  Allison, Mrs Hudson J.C. (Bessie Waldo Daniels)  25.0000  Southampton   \n",
       "4                    Allison, Master Hudson Trevor   0.9167  Southampton   \n",
       "\n",
       "                         home.dest room      ticket   boat     sex  \n",
       "0                     St Louis, MO  B-5  24160 L221      2  female  \n",
       "1  Montreal, PQ / Chesterville, ON  C26         NaN    NaN  female  \n",
       "2  Montreal, PQ / Chesterville, ON  C26         NaN  (135)    male  \n",
       "3  Montreal, PQ / Chesterville, ON  C26         NaN    NaN  female  \n",
       "4  Montreal, PQ / Chesterville, ON  C22         NaN     11    male  \n",
       "\n",
       "[5 rows x 11 columns]"
      ]
     },
     "execution_count": 41,
     "metadata": {},
     "output_type": "execute_result"
    }
   ],
   "source": [
    "titantic = pd.read_csv('titanic.txt')\n",
    "titantic.head()"
   ]
  },
  {
   "cell_type": "code",
   "execution_count": 29,
   "metadata": {
    "collapsed": false
   },
   "outputs": [
    {
     "name": "stdout",
     "output_type": "stream",
     "text": [
      "  pclass  survived      age     embarked   boat     sex\n",
      "0    1st         1  29.0000  Southampton      2  female\n",
      "1    1st         0   2.0000  Southampton    NaN  female\n",
      "2    1st         0  30.0000  Southampton  (135)    male\n",
      "3    1st         0  25.0000  Southampton    NaN  female\n",
      "4    1st         1   0.9167  Southampton     11    male\n",
      "\n",
      "[5 rows x 6 columns]\n"
     ]
    }
   ],
   "source": [
    "print titantic.head()[['pclass', 'survived', 'age', 'embarked', 'boat', 'sex']]"
   ]
  },
  {
   "cell_type": "code",
   "execution_count": 30,
   "metadata": {
    "collapsed": false
   },
   "outputs": [],
   "source": [
    "# for any column in cols, it converts the one column to multiple columns\n",
    "# for example column name - sex, values Female, Male\n",
    "# it converts to two columns, sex=female, sex=male\n",
    "from sklearn import feature_extraction\n",
    "def one_hot_dataframe(data, cols, replace=True):\n",
    "    vec = feature_extraction.DictVectorizer()\n",
    "    vecData = pd.DataFrame(vec.fit_transform(data[cols].to_dict(outtype='records')).toarray())\n",
    "    vecData.columns = vec.get_feature_names()\n",
    "    vecData.index = data.index\n",
    "    if replace:\n",
    "        data = data.drop(cols, axis=1)\n",
    "        data = data.join(vecData)\n",
    "    return (data, vecData, vec)"
   ]
  },
  {
   "cell_type": "code",
   "execution_count": 43,
   "metadata": {
    "collapsed": false
   },
   "outputs": [],
   "source": [
    "titantic, titanic_n, vec = one_hot_dataframe(titantic, ['pclass','embarked','sex','home.dest','room','ticket','boat'], replace=True)"
   ]
  },
  {
   "cell_type": "code",
   "execution_count": 44,
   "metadata": {
    "collapsed": false
   },
   "outputs": [
    {
     "data": {
      "text/plain": [
       "(1313, 581)"
      ]
     },
     "execution_count": 44,
     "metadata": {},
     "output_type": "execute_result"
    }
   ],
   "source": [
    "titantic.shape"
   ]
  },
  {
   "cell_type": "code",
   "execution_count": 42,
   "metadata": {
    "collapsed": false
   },
   "outputs": [
    {
     "data": {
      "text/html": [
       "<div style=\"max-height:1000px;max-width:1500px;overflow:auto;\">\n",
       "<table border=\"1\" class=\"dataframe\">\n",
       "  <thead>\n",
       "    <tr style=\"text-align: right;\">\n",
       "      <th></th>\n",
       "      <th>row.names</th>\n",
       "      <th>pclass</th>\n",
       "      <th>survived</th>\n",
       "      <th>name</th>\n",
       "      <th>age</th>\n",
       "      <th>embarked</th>\n",
       "      <th>home.dest</th>\n",
       "      <th>room</th>\n",
       "      <th>ticket</th>\n",
       "      <th>boat</th>\n",
       "      <th>sex</th>\n",
       "    </tr>\n",
       "  </thead>\n",
       "  <tbody>\n",
       "    <tr>\n",
       "      <th>0</th>\n",
       "      <td> 1</td>\n",
       "      <td> 1st</td>\n",
       "      <td> 1</td>\n",
       "      <td>                    Allen, Miss Elisabeth Walton</td>\n",
       "      <td> 29.0000</td>\n",
       "      <td> Southampton</td>\n",
       "      <td>                    St Louis, MO</td>\n",
       "      <td> B-5</td>\n",
       "      <td> 24160 L221</td>\n",
       "      <td>     2</td>\n",
       "      <td> female</td>\n",
       "    </tr>\n",
       "    <tr>\n",
       "      <th>1</th>\n",
       "      <td> 2</td>\n",
       "      <td> 1st</td>\n",
       "      <td> 0</td>\n",
       "      <td>                     Allison, Miss Helen Loraine</td>\n",
       "      <td>  2.0000</td>\n",
       "      <td> Southampton</td>\n",
       "      <td> Montreal, PQ / Chesterville, ON</td>\n",
       "      <td> C26</td>\n",
       "      <td>          0</td>\n",
       "      <td>     0</td>\n",
       "      <td> female</td>\n",
       "    </tr>\n",
       "    <tr>\n",
       "      <th>2</th>\n",
       "      <td> 3</td>\n",
       "      <td> 1st</td>\n",
       "      <td> 0</td>\n",
       "      <td>             Allison, Mr Hudson Joshua Creighton</td>\n",
       "      <td> 30.0000</td>\n",
       "      <td> Southampton</td>\n",
       "      <td> Montreal, PQ / Chesterville, ON</td>\n",
       "      <td> C26</td>\n",
       "      <td>          0</td>\n",
       "      <td> (135)</td>\n",
       "      <td>   male</td>\n",
       "    </tr>\n",
       "    <tr>\n",
       "      <th>3</th>\n",
       "      <td> 4</td>\n",
       "      <td> 1st</td>\n",
       "      <td> 0</td>\n",
       "      <td> Allison, Mrs Hudson J.C. (Bessie Waldo Daniels)</td>\n",
       "      <td> 25.0000</td>\n",
       "      <td> Southampton</td>\n",
       "      <td> Montreal, PQ / Chesterville, ON</td>\n",
       "      <td> C26</td>\n",
       "      <td>          0</td>\n",
       "      <td>     0</td>\n",
       "      <td> female</td>\n",
       "    </tr>\n",
       "    <tr>\n",
       "      <th>4</th>\n",
       "      <td> 5</td>\n",
       "      <td> 1st</td>\n",
       "      <td> 1</td>\n",
       "      <td>                   Allison, Master Hudson Trevor</td>\n",
       "      <td>  0.9167</td>\n",
       "      <td> Southampton</td>\n",
       "      <td> Montreal, PQ / Chesterville, ON</td>\n",
       "      <td> C22</td>\n",
       "      <td>          0</td>\n",
       "      <td>    11</td>\n",
       "      <td>   male</td>\n",
       "    </tr>\n",
       "  </tbody>\n",
       "</table>\n",
       "<p>5 rows × 11 columns</p>\n",
       "</div>"
      ],
      "text/plain": [
       "   row.names pclass  survived  \\\n",
       "0          1    1st         1   \n",
       "1          2    1st         0   \n",
       "2          3    1st         0   \n",
       "3          4    1st         0   \n",
       "4          5    1st         1   \n",
       "\n",
       "                                              name      age     embarked  \\\n",
       "0                     Allen, Miss Elisabeth Walton  29.0000  Southampton   \n",
       "1                      Allison, Miss Helen Loraine   2.0000  Southampton   \n",
       "2              Allison, Mr Hudson Joshua Creighton  30.0000  Southampton   \n",
       "3  Allison, Mrs Hudson J.C. (Bessie Waldo Daniels)  25.0000  Southampton   \n",
       "4                    Allison, Master Hudson Trevor   0.9167  Southampton   \n",
       "\n",
       "                         home.dest room      ticket   boat     sex  \n",
       "0                     St Louis, MO  B-5  24160 L221      2  female  \n",
       "1  Montreal, PQ / Chesterville, ON  C26           0      0  female  \n",
       "2  Montreal, PQ / Chesterville, ON  C26           0  (135)    male  \n",
       "3  Montreal, PQ / Chesterville, ON  C26           0      0  female  \n",
       "4  Montreal, PQ / Chesterville, ON  C22           0     11    male  \n",
       "\n",
       "[5 rows x 11 columns]"
      ]
     },
     "execution_count": 42,
     "metadata": {},
     "output_type": "execute_result"
    }
   ],
   "source": [
    "# Fill N/A values\n",
    "mean = titantic['age'].mean()\n",
    "titantic['age'].fillna(mean, inplace=True)\n",
    "titantic.fillna(0, inplace=True)\n",
    "titantic.head()"
   ]
  },
  {
   "cell_type": "code",
   "execution_count": 45,
   "metadata": {
    "collapsed": false
   },
   "outputs": [],
   "source": [
    "# split into Train and Test\n",
    "from sklearn.cross_validation import train_test_split\n",
    "titanic_target = titantic['survived']\n",
    "titanic_data = titantic.drop(['name', 'row.names','survived'],axis=1)\n",
    "X_train, X_test, y_train, y_test = train_test_split(titanic_data, titanic_target,test_size=0.25,random_state=33)"
   ]
  },
  {
   "cell_type": "code",
   "execution_count": 47,
   "metadata": {
    "collapsed": false
   },
   "outputs": [
    {
     "name": "stdout",
     "output_type": "stream",
     "text": [
      "Accuracy: 0.836 \n",
      "\n"
     ]
    }
   ],
   "source": [
    "from sklearn import tree\n",
    "dt = tree.DecisionTreeClassifier(criterion='entropy')\n",
    "dt = dt.fit(X_train, y_train)\n",
    "from sklearn import metrics\n",
    "y_perd = dt.predict(X_test)\n",
    "print \"Accuracy: {0:.3f}\".format(metrics.accuracy_score(y_test, y_perd)), \"\\n\""
   ]
  },
  {
   "cell_type": "markdown",
   "metadata": {},
   "source": [
    "### Features Selection\n",
    "Find out the most relative features and use them for building model"
   ]
  },
  {
   "cell_type": "code",
   "execution_count": 48,
   "metadata": {
    "collapsed": false
   },
   "outputs": [],
   "source": [
    "from sklearn import feature_selection\n",
    "\n",
    "fs = feature_selection.SelectPercentile(\n",
    "        feature_selection.chi2, percentile=20)\n",
    "X_train_fs = fs.fit_transform(X_train, y_train)"
   ]
  },
  {
   "cell_type": "code",
   "execution_count": 49,
   "metadata": {
    "collapsed": false
   },
   "outputs": [
    {
     "name": "stdout",
     "output_type": "stream",
     "text": [
      "Accuracy: 0.836 \n",
      "\n"
     ]
    }
   ],
   "source": [
    "dt.fit(X_train_fs, y_train)\n",
    "X_test_fs = fs.transform(X_test)\n",
    "y_pred_fs = dt.predict(X_test_fs)\n",
    "print \"Accuracy: {0:.3f}\".format(metrics.accuracy_score(y_test, y_perd)), \"\\n\""
   ]
  },
  {
   "cell_type": "code",
   "execution_count": 53,
   "metadata": {
    "collapsed": false
   },
   "outputs": [
    {
     "name": "stdout",
     "output_type": "stream",
     "text": [
      "(329, 578)\n"
     ]
    }
   ],
   "source": [
    "print X_test.shape"
   ]
  },
  {
   "cell_type": "code",
   "execution_count": 52,
   "metadata": {
    "collapsed": false
   },
   "outputs": [
    {
     "name": "stdout",
     "output_type": "stream",
     "text": [
      "(329, 115)\n"
     ]
    }
   ],
   "source": [
    "print X_test_fs.shape"
   ]
  },
  {
   "cell_type": "code",
   "execution_count": 55,
   "metadata": {
    "collapsed": false
   },
   "outputs": [
    {
     "name": "stdout",
     "output_type": "stream",
     "text": [
      "Optimal number of features:6 \n",
      "\n"
     ]
    },
    {
     "name": "stderr",
     "output_type": "stream",
     "text": [
      "/usr/local/lib/python2.7/dist-packages/ipykernel/__main__.py:13: DeprecationWarning: converting an array with ndim > 0 to an index will result in an error in the future\n"
     ]
    }
   ],
   "source": [
    "# try to find the optimal number of features\n",
    "from sklearn import cross_validation\n",
    "percentiles = range(1,100,5)\n",
    "results = []\n",
    "for i in range(1,100,5):\n",
    "    fs = feature_selection.SelectPercentile(\n",
    "            feature_selection.chi2, percentile=i)\n",
    "    x_train_fs = fs.fit_transform(X_train, y_train)\n",
    "    scores = cross_validation.cross_val_score(dt, x_train_fs, y_train, cv=5)\n",
    "    results = np.append(results, scores.mean())\n",
    "optimal_percentil = np.where(results == results.max())[0]\n",
    "print \"Optimal number of features:{0}\".format(\n",
    "    percentiles[optimal_percentil]), \"\\n\""
   ]
  },
  {
   "cell_type": "code",
   "execution_count": 56,
   "metadata": {
    "collapsed": false
   },
   "outputs": [
    {
     "name": "stdout",
     "output_type": "stream",
     "text": [
      "Populating the interactive namespace from numpy and matplotlib\n"
     ]
    },
    {
     "name": "stderr",
     "output_type": "stream",
     "text": [
      "WARNING: pylab import has clobbered these variables: ['mean']\n",
      "`%matplotlib` prevents importing * from pylab and numpy\n"
     ]
    }
   ],
   "source": [
    "%pylab inline"
   ]
  },
  {
   "cell_type": "code",
   "execution_count": 57,
   "metadata": {
    "collapsed": false
   },
   "outputs": [
    {
     "data": {
      "text/plain": [
       "[<matplotlib.lines.Line2D at 0x7f8082611ed0>]"
      ]
     },
     "execution_count": 57,
     "metadata": {},
     "output_type": "execute_result"
    },
    {
     "data": {
      "image/png": "[encoded data removed]",
      "text/plain": [
       "<matplotlib.figure.Figure at 0x7f80825b2410>"
      ]
     },
     "metadata": {},
     "output_type": "display_data"
    }
   ],
   "source": [
    "plt.figure()\n",
    "plt.xlabel(\"Number of features selected\")\n",
    "plt.ylabel(\"Cross-validation scores\")\n",
    "plt.plot(percentiles, results)\n"
   ]
  }
 ],
 "metadata": {
  "kernelspec": {
   "display_name": "Python 2",
   "language": "python",
   "name": "python2"
  },
  "language_info": {
   "codemirror_mode": {
    "name": "ipython",
    "version": 2
   },
   "file_extension": ".py",
   "mimetype": "text/x-python",
   "name": "python",
   "nbconvert_exporter": "python",
   "pygments_lexer": "ipython2",
   "version": "2.7.6"
  }
 },
 "nbformat": 4,
 "nbformat_minor": 0
}
